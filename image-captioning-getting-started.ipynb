{
 "cells": [
  {
   "cell_type": "code",
   "execution_count": 1,
   "metadata": {
    "_cell_guid": "b1076dfc-b9ad-4769-8c92-a6c4dae69d19",
    "_uuid": "8f2839f25d086af736a60e9eeb907d3b93b6e0e5",
    "execution": {
     "iopub.execute_input": "2021-03-25T20:13:45.817476Z",
     "iopub.status.busy": "2021-03-25T20:13:45.816718Z",
     "iopub.status.idle": "2021-03-25T20:13:51.960575Z",
     "shell.execute_reply": "2021-03-25T20:13:51.959954Z"
    },
    "papermill": {
     "duration": 6.177249,
     "end_time": "2021-03-25T20:13:51.960759",
     "exception": false,
     "start_time": "2021-03-25T20:13:45.783510",
     "status": "completed"
    },
    "tags": []
   },
   "outputs": [],
   "source": [
    "import os\n",
    "import numpy as np\n",
    "import pandas as pd\n",
    "import re\n",
    "import nltk\n",
    "from nltk.tokenize import word_tokenize\n",
    "import string\n",
    "\n",
    "from keras.preprocessing import sequence\n",
    "from keras.models import Sequential\n",
    "from keras.layers import LSTM, Embedding, TimeDistributed, Dense, RepeatVector,\\\n",
    "                         Activation, Flatten, Reshape, concatenate, Dropout, BatchNormalization\n",
    "from keras.optimizers import Adam, RMSprop\n",
    "from keras.layers.wrappers import Bidirectional\n",
    "from keras.layers.merge import add\n",
    "from keras.applications.inception_v3 import InceptionV3\n",
    "from keras.preprocessing import image\n",
    "from keras.models import Model\n",
    "from keras import Input, layers\n",
    "from keras import optimizers\n",
    "from keras.applications.inception_v3 import preprocess_input\n",
    "from keras.preprocessing.text import Tokenizer\n",
    "from keras.preprocessing.sequence import pad_sequences\n",
    "from keras.utils import to_categorical"
   ]
  },
  {
   "cell_type": "code",
   "execution_count": 2,
   "metadata": {
    "execution": {
     "iopub.execute_input": "2021-03-25T20:13:52.015446Z",
     "iopub.status.busy": "2021-03-25T20:13:52.014913Z",
     "iopub.status.idle": "2021-03-25T20:13:52.607950Z",
     "shell.execute_reply": "2021-03-25T20:13:52.607092Z"
    },
    "papermill": {
     "duration": 0.623769,
     "end_time": "2021-03-25T20:13:52.608109",
     "exception": false,
     "start_time": "2021-03-25T20:13:51.984340",
     "status": "completed"
    },
    "tags": []
   },
   "outputs": [],
   "source": [
    "data_dir = '../input/flickr-image-dataset/flickr30k_images'\n",
    "img_dir = os.path.join(data_dir, 'flickr30k_images')\n",
    "images = list(os.listdir(img_dir))\n",
    "\n",
    "data_file = os.path.join(data_dir, 'results.csv')\n"
   ]
  },
  {
   "cell_type": "code",
   "execution_count": 3,
   "metadata": {
    "execution": {
     "iopub.execute_input": "2021-03-25T20:13:52.662617Z",
     "iopub.status.busy": "2021-03-25T20:13:52.662081Z",
     "iopub.status.idle": "2021-03-25T20:13:52.981469Z",
     "shell.execute_reply": "2021-03-25T20:13:52.981032Z"
    },
    "papermill": {
     "duration": 0.348965,
     "end_time": "2021-03-25T20:13:52.981596",
     "exception": false,
     "start_time": "2021-03-25T20:13:52.632631",
     "status": "completed"
    },
    "tags": []
   },
   "outputs": [
    {
     "data": {
      "text/html": [
       "<div>\n",
       "<style scoped>\n",
       "    .dataframe tbody tr th:only-of-type {\n",
       "        vertical-align: middle;\n",
       "    }\n",
       "\n",
       "    .dataframe tbody tr th {\n",
       "        vertical-align: top;\n",
       "    }\n",
       "\n",
       "    .dataframe thead th {\n",
       "        text-align: right;\n",
       "    }\n",
       "</style>\n",
       "<table border=\"1\" class=\"dataframe\">\n",
       "  <thead>\n",
       "    <tr style=\"text-align: right;\">\n",
       "      <th></th>\n",
       "      <th>image_name</th>\n",
       "      <th>comment_number</th>\n",
       "      <th>comment</th>\n",
       "    </tr>\n",
       "  </thead>\n",
       "  <tbody>\n",
       "    <tr>\n",
       "      <th>0</th>\n",
       "      <td>1000092795.jpg</td>\n",
       "      <td>0</td>\n",
       "      <td>Two young guys with shaggy hair look at their...</td>\n",
       "    </tr>\n",
       "    <tr>\n",
       "      <th>1</th>\n",
       "      <td>1000092795.jpg</td>\n",
       "      <td>1</td>\n",
       "      <td>Two young , White males are outside near many...</td>\n",
       "    </tr>\n",
       "    <tr>\n",
       "      <th>2</th>\n",
       "      <td>1000092795.jpg</td>\n",
       "      <td>2</td>\n",
       "      <td>Two men in green shirts are standing in a yard .</td>\n",
       "    </tr>\n",
       "    <tr>\n",
       "      <th>3</th>\n",
       "      <td>1000092795.jpg</td>\n",
       "      <td>3</td>\n",
       "      <td>A man in a blue shirt standing in a garden .</td>\n",
       "    </tr>\n",
       "    <tr>\n",
       "      <th>4</th>\n",
       "      <td>1000092795.jpg</td>\n",
       "      <td>4</td>\n",
       "      <td>Two friends enjoy time spent together .</td>\n",
       "    </tr>\n",
       "  </tbody>\n",
       "</table>\n",
       "</div>"
      ],
      "text/plain": [
       "       image_name  comment_number  \\\n",
       "0  1000092795.jpg               0   \n",
       "1  1000092795.jpg               1   \n",
       "2  1000092795.jpg               2   \n",
       "3  1000092795.jpg               3   \n",
       "4  1000092795.jpg               4   \n",
       "\n",
       "                                             comment  \n",
       "0   Two young guys with shaggy hair look at their...  \n",
       "1   Two young , White males are outside near many...  \n",
       "2   Two men in green shirts are standing in a yard .  \n",
       "3       A man in a blue shirt standing in a garden .  \n",
       "4            Two friends enjoy time spent together .  "
      ]
     },
     "execution_count": 3,
     "metadata": {},
     "output_type": "execute_result"
    }
   ],
   "source": [
    "data = pd.read_csv(data_file, delimiter = '|')\n",
    "data.head()"
   ]
  },
  {
   "cell_type": "code",
   "execution_count": 4,
   "metadata": {
    "execution": {
     "iopub.execute_input": "2021-03-25T20:13:53.035163Z",
     "iopub.status.busy": "2021-03-25T20:13:53.033431Z",
     "iopub.status.idle": "2021-03-25T20:13:53.035740Z",
     "shell.execute_reply": "2021-03-25T20:13:53.036149Z"
    },
    "papermill": {
     "duration": 0.030947,
     "end_time": "2021-03-25T20:13:53.036289",
     "exception": false,
     "start_time": "2021-03-25T20:13:53.005342",
     "status": "completed"
    },
    "tags": []
   },
   "outputs": [],
   "source": [
    "data.columns = ['image_name','comment_number','comment']"
   ]
  },
  {
   "cell_type": "code",
   "execution_count": 5,
   "metadata": {
    "execution": {
     "iopub.execute_input": "2021-03-25T20:13:53.088451Z",
     "iopub.status.busy": "2021-03-25T20:13:53.087785Z",
     "iopub.status.idle": "2021-03-25T20:13:53.092502Z",
     "shell.execute_reply": "2021-03-25T20:13:53.092072Z"
    },
    "papermill": {
     "duration": 0.032698,
     "end_time": "2021-03-25T20:13:53.092614",
     "exception": false,
     "start_time": "2021-03-25T20:13:53.059916",
     "status": "completed"
    },
    "tags": []
   },
   "outputs": [
    {
     "name": "stdout",
     "output_type": "stream",
     "text": [
      "Number of images in image forlder = 31785 and number of entries in results.csv = 158915\n"
     ]
    }
   ],
   "source": [
    "print (\"Number of images in image forlder = %d and number of entries in results.csv = %d\" %(len(images), data.shape[0]))\n"
   ]
  },
  {
   "cell_type": "markdown",
   "metadata": {
    "papermill": {
     "duration": 0.023939,
     "end_time": "2021-03-25T20:13:53.140561",
     "exception": false,
     "start_time": "2021-03-25T20:13:53.116622",
     "status": "completed"
    },
    "tags": []
   },
   "source": [
    "Notice that for one image there can be multiple labels in the comment section. For example, for image id 1000092795.jpg, there are 5 comments denoted by the comment number which describes that image. "
   ]
  },
  {
   "cell_type": "code",
   "execution_count": 6,
   "metadata": {
    "execution": {
     "iopub.execute_input": "2021-03-25T20:13:53.216672Z",
     "iopub.status.busy": "2021-03-25T20:13:53.215795Z",
     "iopub.status.idle": "2021-03-25T20:13:53.225285Z",
     "shell.execute_reply": "2021-03-25T20:13:53.224737Z"
    },
    "papermill": {
     "duration": 0.060679,
     "end_time": "2021-03-25T20:13:53.225408",
     "exception": false,
     "start_time": "2021-03-25T20:13:53.164729",
     "status": "completed"
    },
    "tags": []
   },
   "outputs": [
    {
     "data": {
      "text/html": [
       "<div>\n",
       "<style scoped>\n",
       "    .dataframe tbody tr th:only-of-type {\n",
       "        vertical-align: middle;\n",
       "    }\n",
       "\n",
       "    .dataframe tbody tr th {\n",
       "        vertical-align: top;\n",
       "    }\n",
       "\n",
       "    .dataframe thead th {\n",
       "        text-align: right;\n",
       "    }\n",
       "</style>\n",
       "<table border=\"1\" class=\"dataframe\">\n",
       "  <thead>\n",
       "    <tr style=\"text-align: right;\">\n",
       "      <th></th>\n",
       "      <th>image_name</th>\n",
       "      <th>comment_number</th>\n",
       "      <th>comment</th>\n",
       "    </tr>\n",
       "  </thead>\n",
       "  <tbody>\n",
       "    <tr>\n",
       "      <th>0</th>\n",
       "      <td>1000092795.jpg</td>\n",
       "      <td>0</td>\n",
       "      <td>Two young guys with shaggy hair look at their...</td>\n",
       "    </tr>\n",
       "    <tr>\n",
       "      <th>1</th>\n",
       "      <td>1000092795.jpg</td>\n",
       "      <td>1</td>\n",
       "      <td>Two young , White males are outside near many...</td>\n",
       "    </tr>\n",
       "    <tr>\n",
       "      <th>2</th>\n",
       "      <td>1000092795.jpg</td>\n",
       "      <td>2</td>\n",
       "      <td>Two men in green shirts are standing in a yard .</td>\n",
       "    </tr>\n",
       "    <tr>\n",
       "      <th>3</th>\n",
       "      <td>1000092795.jpg</td>\n",
       "      <td>3</td>\n",
       "      <td>A man in a blue shirt standing in a garden .</td>\n",
       "    </tr>\n",
       "    <tr>\n",
       "      <th>4</th>\n",
       "      <td>1000092795.jpg</td>\n",
       "      <td>4</td>\n",
       "      <td>Two friends enjoy time spent together .</td>\n",
       "    </tr>\n",
       "  </tbody>\n",
       "</table>\n",
       "</div>"
      ],
      "text/plain": [
       "       image_name comment_number  \\\n",
       "0  1000092795.jpg              0   \n",
       "1  1000092795.jpg              1   \n",
       "2  1000092795.jpg              2   \n",
       "3  1000092795.jpg              3   \n",
       "4  1000092795.jpg              4   \n",
       "\n",
       "                                             comment  \n",
       "0   Two young guys with shaggy hair look at their...  \n",
       "1   Two young , White males are outside near many...  \n",
       "2   Two men in green shirts are standing in a yard .  \n",
       "3       A man in a blue shirt standing in a garden .  \n",
       "4            Two friends enjoy time spent together .  "
      ]
     },
     "execution_count": 6,
     "metadata": {},
     "output_type": "execute_result"
    }
   ],
   "source": [
    "data[data['image_name']=='1000092795.jpg']"
   ]
  },
  {
   "cell_type": "code",
   "execution_count": 7,
   "metadata": {
    "execution": {
     "iopub.execute_input": "2021-03-25T20:13:53.424746Z",
     "iopub.status.busy": "2021-03-25T20:13:53.418811Z",
     "iopub.status.idle": "2021-03-25T20:13:53.430288Z",
     "shell.execute_reply": "2021-03-25T20:13:53.429791Z"
    },
    "papermill": {
     "duration": 0.180365,
     "end_time": "2021-03-25T20:13:53.430408",
     "exception": false,
     "start_time": "2021-03-25T20:13:53.250043",
     "status": "completed"
    },
    "tags": []
   },
   "outputs": [
    {
     "data": {
      "text/plain": [
       "31783"
      ]
     },
     "execution_count": 7,
     "metadata": {},
     "output_type": "execute_result"
    }
   ],
   "source": [
    "#finding the number of unique image ids from results\n",
    "len(np.unique(data['image_name'].values))"
   ]
  },
  {
   "cell_type": "markdown",
   "metadata": {
    "papermill": {
     "duration": 0.024648,
     "end_time": "2021-03-25T20:13:53.480300",
     "exception": false,
     "start_time": "2021-03-25T20:13:53.455652",
     "status": "completed"
    },
    "tags": []
   },
   "source": [
    "So, there are two extra images in image folder for which there is no description given in the data. We are not going to consider these two images for our model building. Further for each unique image there are 5 separate captions possible. So, 31783*5 = 158915 entries of the dataframe."
   ]
  },
  {
   "cell_type": "markdown",
   "metadata": {
    "papermill": {
     "duration": 0.024853,
     "end_time": "2021-03-25T20:13:53.530112",
     "exception": false,
     "start_time": "2021-03-25T20:13:53.505259",
     "status": "completed"
    },
    "tags": []
   },
   "source": [
    "### Building a map from image id to various comments"
   ]
  },
  {
   "cell_type": "code",
   "execution_count": 8,
   "metadata": {
    "execution": {
     "iopub.execute_input": "2021-03-25T20:13:53.731233Z",
     "iopub.status.busy": "2021-03-25T20:13:53.725375Z",
     "iopub.status.idle": "2021-03-25T20:25:36.064229Z",
     "shell.execute_reply": "2021-03-25T20:25:36.063775Z"
    },
    "papermill": {
     "duration": 702.509282,
     "end_time": "2021-03-25T20:25:36.064360",
     "exception": false,
     "start_time": "2021-03-25T20:13:53.555078",
     "status": "completed"
    },
    "tags": []
   },
   "outputs": [
    {
     "name": "stderr",
     "output_type": "stream",
     "text": [
      "100%|██████████| 31783/31783 [11:42<00:00, 45.25it/s]\n"
     ]
    }
   ],
   "source": [
    "from tqdm import tqdm\n",
    "image2comment = {}\n",
    "unique_images = np.unique(data['image_name'].values)\n",
    "\n",
    "for img_id in tqdm(unique_images):\n",
    "    comments = list(data[data['image_name']==img_id]['comment'].values)\n",
    "    image2comment[img_id] = comments"
   ]
  },
  {
   "cell_type": "markdown",
   "metadata": {
    "papermill": {
     "duration": 1.664938,
     "end_time": "2021-03-25T20:25:39.345822",
     "exception": false,
     "start_time": "2021-03-25T20:25:37.680884",
     "status": "completed"
    },
    "tags": []
   },
   "source": [
    "## Preprocessing the language data/comments"
   ]
  },
  {
   "cell_type": "code",
   "execution_count": 9,
   "metadata": {
    "execution": {
     "iopub.execute_input": "2021-03-25T20:25:42.557454Z",
     "iopub.status.busy": "2021-03-25T20:25:42.556733Z",
     "iopub.status.idle": "2021-03-25T20:25:42.560508Z",
     "shell.execute_reply": "2021-03-25T20:25:42.560040Z"
    },
    "papermill": {
     "duration": 1.615448,
     "end_time": "2021-03-25T20:25:42.560620",
     "exception": false,
     "start_time": "2021-03-25T20:25:40.945172",
     "status": "completed"
    },
    "tags": []
   },
   "outputs": [],
   "source": [
    "table = str.maketrans('', '', string.punctuation)\n",
    "def preprocess(comment):\n",
    "    #1) tokenize\n",
    "    tokens = word_tokenize(comment)\n",
    "    \n",
    "    #2) convert tokens to lower case\n",
    "    tokens = [token.lower() for token in tokens]\n",
    "    \n",
    "    #3) Remove punctuations from tokens\n",
    "    tokens = [token.translate(table) for token in tokens]\n",
    "    \n",
    "    #4) Remove tokens which has a length less than 1\n",
    "    tokens = [token for token in tokens if len(token) >1]\n",
    "    \n",
    "    #5) Only consider tokens which are pure words(only strings of alphabets)\n",
    "    tokens = [token for token in tokens if token.isalpha()]\n",
    "    \n",
    "    preprocessed_comment = ' '.join(tokens)\n",
    "    \n",
    "    return preprocessed_comment\n",
    "    "
   ]
  },
  {
   "cell_type": "code",
   "execution_count": 10,
   "metadata": {
    "execution": {
     "iopub.execute_input": "2021-03-25T20:25:45.933457Z",
     "iopub.status.busy": "2021-03-25T20:25:45.932435Z",
     "iopub.status.idle": "2021-03-25T20:25:45.957213Z",
     "shell.execute_reply": "2021-03-25T20:25:45.956536Z"
    },
    "papermill": {
     "duration": 1.79102,
     "end_time": "2021-03-25T20:25:45.957387",
     "exception": false,
     "start_time": "2021-03-25T20:25:44.166367",
     "status": "completed"
    },
    "tags": []
   },
   "outputs": [
    {
     "name": "stdout",
     "output_type": "stream",
     "text": [
      " A man with a goatee in a black shirt and white latex gloves is using a tattoo gun to place a tattoo on someone 's back .\n"
     ]
    },
    {
     "data": {
      "text/plain": [
       "'man with goatee in black shirt and white latex gloves is using tattoo gun to place tattoo on someone back'"
      ]
     },
     "execution_count": 10,
     "metadata": {},
     "output_type": "execute_result"
    }
   ],
   "source": [
    "comment = data['comment'].values[110]\n",
    "print (comment)\n",
    "preprocess(comment)"
   ]
  },
  {
   "cell_type": "code",
   "execution_count": 11,
   "metadata": {
    "execution": {
     "iopub.execute_input": "2021-03-25T20:25:49.651913Z",
     "iopub.status.busy": "2021-03-25T20:25:49.651113Z",
     "iopub.status.idle": "2021-03-25T20:26:19.021732Z",
     "shell.execute_reply": "2021-03-25T20:26:19.022565Z"
    },
    "papermill": {
     "duration": 31.009178,
     "end_time": "2021-03-25T20:26:19.022902",
     "exception": false,
     "start_time": "2021-03-25T20:25:48.013724",
     "status": "completed"
    },
    "tags": []
   },
   "outputs": [
    {
     "name": "stderr",
     "output_type": "stream",
     "text": [
      " 13%|█▎        | 4146/31783 [00:04<00:28, 968.98it/s]"
     ]
    },
    {
     "name": "stdout",
     "output_type": "stream",
     "text": [
      "2199200615.jpg nan 20000\n"
     ]
    },
    {
     "name": "stderr",
     "output_type": "stream",
     "text": [
      "100%|██████████| 31783/31783 [00:29<00:00, 1082.36it/s]\n"
     ]
    }
   ],
   "source": [
    "#preprocessing on all comments\n",
    "preprocessed_img_comments = {}\n",
    "comment_count = 0\n",
    "for img_id in tqdm(image2comment.keys()):\n",
    "    comments = image2comment[img_id]\n",
    "    t = []\n",
    "    for comment in comments:\n",
    "        comment_count +=1\n",
    "        try:\n",
    "            t.append(preprocess(comment))\n",
    "        except:\n",
    "            print (img_id,comment, comment_count)\n",
    "            \n",
    "    preprocessed_img_comments[img_id] = t\n",
    "        "
   ]
  },
  {
   "cell_type": "code",
   "execution_count": 12,
   "metadata": {
    "execution": {
     "iopub.execute_input": "2021-03-25T20:26:22.820604Z",
     "iopub.status.busy": "2021-03-25T20:26:22.819777Z",
     "iopub.status.idle": "2021-03-25T20:26:22.825168Z",
     "shell.execute_reply": "2021-03-25T20:26:22.824602Z"
    },
    "papermill": {
     "duration": 1.76061,
     "end_time": "2021-03-25T20:26:22.825288",
     "exception": false,
     "start_time": "2021-03-25T20:26:21.064678",
     "status": "completed"
    },
    "tags": []
   },
   "outputs": [
    {
     "data": {
      "text/plain": [
       "array([' A dog running on green grass with its mouth open and tongue hanging out .',\n",
       "       ' a white dog is running with its mouth open across the grass .',\n",
       "       ' A white , black , and brown dog runs in a field .',\n",
       "       ' A dog runs across the grassy field .', nan], dtype=object)"
      ]
     },
     "execution_count": 12,
     "metadata": {},
     "output_type": "execute_result"
    }
   ],
   "source": [
    "data[data['image_name'] =='2199200615.jpg']['comment'].values"
   ]
  },
  {
   "cell_type": "markdown",
   "metadata": {
    "papermill": {
     "duration": 1.779185,
     "end_time": "2021-03-25T20:26:26.740863",
     "exception": false,
     "start_time": "2021-03-25T20:26:24.961678",
     "status": "completed"
    },
    "tags": []
   },
   "source": [
    "Notice that this image id has 4 comments instead of 5,i.e, one comment is ''. A try except is used as a wrapper while preprocessing the comment so as to remove the empty comment. The preprocessed data now should have (158915 -1) = 158914  comments."
   ]
  },
  {
   "cell_type": "code",
   "execution_count": 13,
   "metadata": {
    "execution": {
     "iopub.execute_input": "2021-03-25T20:26:30.675653Z",
     "iopub.status.busy": "2021-03-25T20:26:30.674966Z",
     "iopub.status.idle": "2021-03-25T20:26:30.679518Z",
     "shell.execute_reply": "2021-03-25T20:26:30.680400Z"
    },
    "papermill": {
     "duration": 2.089571,
     "end_time": "2021-03-25T20:26:30.680576",
     "exception": false,
     "start_time": "2021-03-25T20:26:28.591005",
     "status": "completed"
    },
    "tags": []
   },
   "outputs": [
    {
     "name": "stdout",
     "output_type": "stream",
     "text": [
      "158914\n"
     ]
    }
   ],
   "source": [
    "s = 0\n",
    "for img_id in preprocessed_img_comments.keys():\n",
    "    s += len(preprocessed_img_comments[img_id])\n",
    "print (s)"
   ]
  },
  {
   "cell_type": "markdown",
   "metadata": {
    "papermill": {
     "duration": 1.705928,
     "end_time": "2021-03-25T20:26:34.132744",
     "exception": false,
     "start_time": "2021-03-25T20:26:32.426816",
     "status": "completed"
    },
    "tags": []
   },
   "source": [
    "## Splitting data into train and test sets"
   ]
  },
  {
   "cell_type": "markdown",
   "metadata": {
    "papermill": {
     "duration": 1.677203,
     "end_time": "2021-03-25T20:26:37.485487",
     "exception": false,
     "start_time": "2021-03-25T20:26:35.808284",
     "status": "completed"
    },
    "tags": []
   },
   "source": [
    "Splitting data into 80% train data and 20% test data."
   ]
  },
  {
   "cell_type": "code",
   "execution_count": 14,
   "metadata": {
    "execution": {
     "iopub.execute_input": "2021-03-25T20:26:41.099422Z",
     "iopub.status.busy": "2021-03-25T20:26:41.098462Z",
     "iopub.status.idle": "2021-03-25T20:26:41.105816Z",
     "shell.execute_reply": "2021-03-25T20:26:41.106510Z"
    },
    "papermill": {
     "duration": 1.911527,
     "end_time": "2021-03-25T20:26:41.106746",
     "exception": false,
     "start_time": "2021-03-25T20:26:39.195219",
     "status": "completed"
    },
    "tags": []
   },
   "outputs": [
    {
     "name": "stdout",
     "output_type": "stream",
     "text": [
      "25426 6357\n"
     ]
    }
   ],
   "source": [
    "from sklearn.model_selection import train_test_split\n",
    "train_ids, test_ids = train_test_split(unique_images, test_size = 0.2, random_state = 42, shuffle = True)\n",
    "\n",
    "print (len(train_ids), len(test_ids))"
   ]
  },
  {
   "cell_type": "code",
   "execution_count": 15,
   "metadata": {
    "execution": {
     "iopub.execute_input": "2021-03-25T20:26:44.753437Z",
     "iopub.status.busy": "2021-03-25T20:26:44.752634Z",
     "iopub.status.idle": "2021-03-25T20:26:44.755035Z",
     "shell.execute_reply": "2021-03-25T20:26:44.755456Z"
    },
    "papermill": {
     "duration": 1.704843,
     "end_time": "2021-03-25T20:26:44.755596",
     "exception": false,
     "start_time": "2021-03-25T20:26:43.050753",
     "status": "completed"
    },
    "tags": []
   },
   "outputs": [],
   "source": [
    "train_data = {}\n",
    "for train_idx in train_ids:\n",
    "    train_data[train_idx] = preprocessed_img_comments[train_idx]\n",
    "    \n",
    "    \n",
    "test_data = {}\n",
    "for test_idx in test_ids:\n",
    "    test_data[test_idx] = preprocessed_img_comments[test_idx]"
   ]
  },
  {
   "cell_type": "code",
   "execution_count": 16,
   "metadata": {
    "execution": {
     "iopub.execute_input": "2021-03-25T20:26:48.201282Z",
     "iopub.status.busy": "2021-03-25T20:26:48.199762Z",
     "iopub.status.idle": "2021-03-25T20:26:48.203357Z",
     "shell.execute_reply": "2021-03-25T20:26:48.204028Z"
    },
    "papermill": {
     "duration": 1.733079,
     "end_time": "2021-03-25T20:26:48.204177",
     "exception": false,
     "start_time": "2021-03-25T20:26:46.471098",
     "status": "completed"
    },
    "tags": []
   },
   "outputs": [
    {
     "data": {
      "text/plain": [
       "(25426, 6357)"
      ]
     },
     "execution_count": 16,
     "metadata": {},
     "output_type": "execute_result"
    }
   ],
   "source": [
    "len(train_data.keys()), len(test_data.keys())"
   ]
  },
  {
   "cell_type": "markdown",
   "metadata": {
    "papermill": {
     "duration": 1.754089,
     "end_time": "2021-03-25T20:26:51.637760",
     "exception": false,
     "start_time": "2021-03-25T20:26:49.883671",
     "status": "completed"
    },
    "tags": []
   },
   "source": [
    "# Working on train set\n",
    "\n",
    "First, I am going to further divide the train set into train and train and validation sets with validation sets containing 20% of the train set data."
   ]
  },
  {
   "cell_type": "code",
   "execution_count": 17,
   "metadata": {
    "execution": {
     "iopub.execute_input": "2021-03-25T20:26:55.801406Z",
     "iopub.status.busy": "2021-03-25T20:26:55.800648Z",
     "iopub.status.idle": "2021-03-25T20:26:55.831751Z",
     "shell.execute_reply": "2021-03-25T20:26:55.832591Z"
    },
    "papermill": {
     "duration": 1.949572,
     "end_time": "2021-03-25T20:26:55.832787",
     "exception": false,
     "start_time": "2021-03-25T20:26:53.883215",
     "status": "completed"
    },
    "tags": []
   },
   "outputs": [
    {
     "name": "stdout",
     "output_type": "stream",
     "text": [
      "20340 5086\n"
     ]
    }
   ],
   "source": [
    "train_ids, valid_ids = train_test_split(list(train_data.keys()), shuffle = True, random_state = 42, test_size = 0.2)\n",
    "train = {}\n",
    "valid = {}\n",
    "\n",
    "for id in train_ids:\n",
    "    train[id] = train_data[id]\n",
    "    \n",
    "for id in valid_ids:\n",
    "    valid[id] = train_data[id]\n",
    "    \n",
    "print (len(train.keys()), len(valid.keys()))"
   ]
  },
  {
   "cell_type": "markdown",
   "metadata": {
    "papermill": {
     "duration": 1.715852,
     "end_time": "2021-03-25T20:26:59.424021",
     "exception": false,
     "start_time": "2021-03-25T20:26:57.708169",
     "status": "completed"
    },
    "tags": []
   },
   "source": [
    "## Preprocessing images"
   ]
  },
  {
   "cell_type": "code",
   "execution_count": 18,
   "metadata": {
    "execution": {
     "iopub.execute_input": "2021-03-25T20:27:02.900395Z",
     "iopub.status.busy": "2021-03-25T20:27:02.899490Z",
     "iopub.status.idle": "2021-03-25T20:27:03.279407Z",
     "shell.execute_reply": "2021-03-25T20:27:03.279987Z"
    },
    "papermill": {
     "duration": 2.172891,
     "end_time": "2021-03-25T20:27:03.280203",
     "exception": false,
     "start_time": "2021-03-25T20:27:01.107312",
     "status": "completed"
    },
    "tags": []
   },
   "outputs": [],
   "source": [
    "from skimage.io import imread\n",
    "import matplotlib.pyplot as plt"
   ]
  },
  {
   "cell_type": "code",
   "execution_count": 19,
   "metadata": {
    "execution": {
     "iopub.execute_input": "2021-03-25T20:27:06.966806Z",
     "iopub.status.busy": "2021-03-25T20:27:06.966099Z",
     "iopub.status.idle": "2021-03-25T20:27:07.001340Z",
     "shell.execute_reply": "2021-03-25T20:27:07.000581Z"
    },
    "papermill": {
     "duration": 1.813957,
     "end_time": "2021-03-25T20:27:07.001461",
     "exception": false,
     "start_time": "2021-03-25T20:27:05.187504",
     "status": "completed"
    },
    "tags": []
   },
   "outputs": [
    {
     "data": {
      "text/plain": [
       "(375, 500, 3)"
      ]
     },
     "execution_count": 19,
     "metadata": {},
     "output_type": "execute_result"
    }
   ],
   "source": [
    "train_images = list(train.keys())\n",
    "path = os.path.join(img_dir, train_images[0])\n",
    "img = imread(path)\n",
    "\n",
    "img.shape"
   ]
  },
  {
   "cell_type": "code",
   "execution_count": 20,
   "metadata": {
    "execution": {
     "iopub.execute_input": "2021-03-25T20:27:10.525968Z",
     "iopub.status.busy": "2021-03-25T20:27:10.525146Z",
     "iopub.status.idle": "2021-03-25T20:27:10.698578Z",
     "shell.execute_reply": "2021-03-25T20:27:10.699012Z"
    },
    "papermill": {
     "duration": 1.894876,
     "end_time": "2021-03-25T20:27:10.699206",
     "exception": false,
     "start_time": "2021-03-25T20:27:08.804330",
     "status": "completed"
    },
    "tags": []
   },
   "outputs": [
    {
     "data": {
      "text/plain": [
       "<matplotlib.image.AxesImage at 0x7f3f945b7c10>"
      ]
     },
     "execution_count": 20,
     "metadata": {},
     "output_type": "execute_result"
    },
    {
     "data": {
      "image/png": "[encoded data removed]",
      "text/plain": [
       "<Figure size 432x288 with 1 Axes>"
      ]
     },
     "metadata": {
      "needs_background": "light"
     },
     "output_type": "display_data"
    }
   ],
   "source": [
    "plt.imshow(img)"
   ]
  },
  {
   "cell_type": "code",
   "execution_count": 21,
   "metadata": {
    "execution": {
     "iopub.execute_input": "2021-03-25T20:27:14.480547Z",
     "iopub.status.busy": "2021-03-25T20:27:14.479736Z",
     "iopub.status.idle": "2021-03-25T20:27:14.482798Z",
     "shell.execute_reply": "2021-03-25T20:27:14.483230Z"
    },
    "papermill": {
     "duration": 2.079143,
     "end_time": "2021-03-25T20:27:14.483370",
     "exception": false,
     "start_time": "2021-03-25T20:27:12.404227",
     "status": "completed"
    },
    "tags": []
   },
   "outputs": [
    {
     "data": {
      "text/plain": [
       "(0, 255)"
      ]
     },
     "execution_count": 21,
     "metadata": {},
     "output_type": "execute_result"
    }
   ],
   "source": [
    "np.amin(img),np.amax(img)"
   ]
  },
  {
   "cell_type": "code",
   "execution_count": 22,
   "metadata": {
    "execution": {
     "iopub.execute_input": "2021-03-25T20:27:18.027561Z",
     "iopub.status.busy": "2021-03-25T20:27:18.025848Z",
     "iopub.status.idle": "2021-03-25T20:27:18.028161Z",
     "shell.execute_reply": "2021-03-25T20:27:18.028555Z"
    },
    "papermill": {
     "duration": 1.713667,
     "end_time": "2021-03-25T20:27:18.028705",
     "exception": false,
     "start_time": "2021-03-25T20:27:16.315038",
     "status": "completed"
    },
    "tags": []
   },
   "outputs": [],
   "source": [
    "def preprocess(image_path):\n",
    "    # Convert all the images to size 299x299 as expected by the inception v3 model\n",
    "    img = image.load_img(image_path, target_size=(299, 299))\n",
    "    # Convert PIL image to numpy array of 3-dimensions\n",
    "    x = image.img_to_array(img)\n",
    "    # Add one more dimension\n",
    "    x = np.expand_dims(x, axis=0)\n",
    "    # preprocess the images using preprocess_input() from inception module\n",
    "    x = preprocess_input(x)\n",
    "    return x"
   ]
  },
  {
   "cell_type": "code",
   "execution_count": 23,
   "metadata": {
    "execution": {
     "iopub.execute_input": "2021-03-25T20:27:21.447857Z",
     "iopub.status.busy": "2021-03-25T20:27:21.447158Z",
     "iopub.status.idle": "2021-03-25T20:27:21.598322Z",
     "shell.execute_reply": "2021-03-25T20:27:21.598730Z"
    },
    "papermill": {
     "duration": 1.843926,
     "end_time": "2021-03-25T20:27:21.598876",
     "exception": false,
     "start_time": "2021-03-25T20:27:19.754950",
     "status": "completed"
    },
    "tags": []
   },
   "outputs": [
    {
     "name": "stdout",
     "output_type": "stream",
     "text": [
      "(1, 299, 299, 3)\n",
      "-1.0 1.0\n"
     ]
    },
    {
     "data": {
      "text/plain": [
       "<matplotlib.image.AxesImage at 0x7f3f944fa050>"
      ]
     },
     "execution_count": 23,
     "metadata": {},
     "output_type": "execute_result"
    },
    {
     "data": {
      "image/png": "[encoded data removed]",
      "text/plain": [
       "<Figure size 432x288 with 1 Axes>"
      ]
     },
     "metadata": {
      "needs_background": "light"
     },
     "output_type": "display_data"
    }
   ],
   "source": [
    "preprocessed_img = preprocess(path)\n",
    "print (preprocessed_img.shape)\n",
    "print (np.amin(preprocessed_img), np.amax(preprocessed_img))\n",
    "plt.imshow(preprocessed_img[0,:,:,:])"
   ]
  },
  {
   "cell_type": "markdown",
   "metadata": {
    "papermill": {
     "duration": 2.171717,
     "end_time": "2021-03-25T20:27:25.453995",
     "exception": false,
     "start_time": "2021-03-25T20:27:23.282278",
     "status": "completed"
    },
    "tags": []
   },
   "source": [
    "## Attaining Attribute vector using Inception"
   ]
  },
  {
   "cell_type": "code",
   "execution_count": 24,
   "metadata": {
    "execution": {
     "iopub.execute_input": "2021-03-25T20:27:29.449669Z",
     "iopub.status.busy": "2021-03-25T20:27:29.449091Z",
     "iopub.status.idle": "2021-03-25T20:27:34.889705Z",
     "shell.execute_reply": "2021-03-25T20:27:34.888649Z"
    },
    "papermill": {
     "duration": 7.188973,
     "end_time": "2021-03-25T20:27:34.889838",
     "exception": false,
     "start_time": "2021-03-25T20:27:27.700865",
     "status": "completed"
    },
    "tags": []
   },
   "outputs": [
    {
     "name": "stdout",
     "output_type": "stream",
     "text": [
      "Downloading data from https://storage.googleapis.com/tensorflow/keras-applications/inception_v3/inception_v3_weights_tf_dim_ordering_tf_kernels.h5\n",
      "96116736/96112376 [==============================] - 1s 0us/step\n"
     ]
    }
   ],
   "source": [
    "inception = InceptionV3(weights='imagenet')\n",
    "model = Model(inception.input, inception.layers[-2].output)\n",
    "\n",
    "def findAttributeVector(image):\n",
    "    img_path = os.path.join(img_dir, image) \n",
    "    image = preprocess(img_path) # preprocess the image\n",
    "    vec = model.predict(image) # Get the encoding vector for the image\n",
    "    vec = np.reshape(vec, vec.shape[1]) # reshape from (1, 2048) to (2048, )\n",
    "    return vec\n"
   ]
  },
  {
   "cell_type": "code",
   "execution_count": 25,
   "metadata": {
    "execution": {
     "iopub.execute_input": "2021-03-25T20:27:38.635775Z",
     "iopub.status.busy": "2021-03-25T20:27:38.635160Z",
     "iopub.status.idle": "2021-03-25T20:49:01.815606Z",
     "shell.execute_reply": "2021-03-25T20:49:01.816247Z"
    },
    "papermill": {
     "duration": 1284.952565,
     "end_time": "2021-03-25T20:49:01.816448",
     "exception": false,
     "start_time": "2021-03-25T20:27:36.863883",
     "status": "completed"
    },
    "tags": []
   },
   "outputs": [
    {
     "name": "stderr",
     "output_type": "stream",
     "text": [
      "100%|██████████| 20340/20340 [21:23<00:00, 15.85it/s]\n"
     ]
    }
   ],
   "source": [
    "encoding_train = {}\n",
    "\n",
    "for img in tqdm(train_images):\n",
    "    encoding_train[img] = findAttributeVector(img)"
   ]
  },
  {
   "cell_type": "code",
   "execution_count": 26,
   "metadata": {
    "execution": {
     "iopub.execute_input": "2021-03-25T20:49:10.867693Z",
     "iopub.status.busy": "2021-03-25T20:49:10.866743Z",
     "iopub.status.idle": "2021-03-25T20:49:10.877425Z",
     "shell.execute_reply": "2021-03-25T20:49:10.876942Z"
    },
    "papermill": {
     "duration": 4.469229,
     "end_time": "2021-03-25T20:49:10.877542",
     "exception": false,
     "start_time": "2021-03-25T20:49:06.408313",
     "status": "completed"
    },
    "tags": []
   },
   "outputs": [],
   "source": [
    "import pickle\n",
    "with open('train_img_id_comments.pkl','wb') as f:\n",
    "    pickle.dump(train,f)"
   ]
  },
  {
   "cell_type": "code",
   "execution_count": 27,
   "metadata": {
    "execution": {
     "iopub.execute_input": "2021-03-25T20:49:19.789126Z",
     "iopub.status.busy": "2021-03-25T20:49:19.788212Z",
     "iopub.status.idle": "2021-03-25T20:49:20.214553Z",
     "shell.execute_reply": "2021-03-25T20:49:20.214040Z"
    },
    "papermill": {
     "duration": 4.750021,
     "end_time": "2021-03-25T20:49:20.214688",
     "exception": false,
     "start_time": "2021-03-25T20:49:15.464667",
     "status": "completed"
    },
    "tags": []
   },
   "outputs": [],
   "source": [
    "with open('train_img_encoding.pkl','wb') as f:\n",
    "    pickle.dump(encoding_train, f)"
   ]
  },
  {
   "cell_type": "markdown",
   "metadata": {
    "papermill": {
     "duration": 5.215185,
     "end_time": "2021-03-25T20:49:29.681163",
     "exception": false,
     "start_time": "2021-03-25T20:49:24.465978",
     "status": "completed"
    },
    "tags": []
   },
   "source": [
    "## Building vocabulary\n",
    "\n",
    "For train set, I will select all the unique words and add it to the vocabulary. There will be another two extra tokens a) out of vocabulary token (<unk>) and pad token(<pad>)."
   ]
  },
  {
   "cell_type": "code",
   "execution_count": 28,
   "metadata": {
    "execution": {
     "iopub.execute_input": "2021-03-25T20:49:38.408986Z",
     "iopub.status.busy": "2021-03-25T20:49:38.408293Z",
     "iopub.status.idle": "2021-03-25T20:49:38.411748Z",
     "shell.execute_reply": "2021-03-25T20:49:38.412167Z"
    },
    "papermill": {
     "duration": 4.479875,
     "end_time": "2021-03-25T20:49:38.412305",
     "exception": false,
     "start_time": "2021-03-25T20:49:33.932430",
     "status": "completed"
    },
    "tags": []
   },
   "outputs": [
    {
     "data": {
      "text/plain": [
       "'vocab = {}\\nfor id in train.keys():\\n    comments = train[id]\\n    for comment in comments:\\n        words = comment.split(\\' \\')\\n        for word in words:\\n            vocab[word] = vocab.get(word, 0) + 1\\n                \\nprint (\"Number of unique words in train corpus = %d\" %(len(vocab.keys())))'"
      ]
     },
     "execution_count": 28,
     "metadata": {},
     "output_type": "execute_result"
    }
   ],
   "source": [
    "'''vocab = {}\n",
    "for id in train.keys():\n",
    "    comments = train[id]\n",
    "    for comment in comments:\n",
    "        words = comment.split(' ')\n",
    "        for word in words:\n",
    "            vocab[word] = vocab.get(word, 0) + 1\n",
    "                \n",
    "print (\"Number of unique words in train corpus = %d\" %(len(vocab.keys())))'''"
   ]
  },
  {
   "cell_type": "markdown",
   "metadata": {
    "papermill": {
     "duration": 4.514593,
     "end_time": "2021-03-25T20:49:47.260212",
     "exception": false,
     "start_time": "2021-03-25T20:49:42.745619",
     "status": "completed"
    },
    "tags": []
   },
   "source": [
    "Since the vocabulary dimension is pretty high, I am going to consider only those words which has atleast more than 30 occurence over the train corpus."
   ]
  },
  {
   "cell_type": "code",
   "execution_count": 29,
   "metadata": {
    "execution": {
     "iopub.execute_input": "2021-03-25T20:49:55.864249Z",
     "iopub.status.busy": "2021-03-25T20:49:55.863397Z",
     "iopub.status.idle": "2021-03-25T20:49:55.865526Z",
     "shell.execute_reply": "2021-03-25T20:49:55.865980Z"
    },
    "papermill": {
     "duration": 4.265331,
     "end_time": "2021-03-25T20:49:55.866128",
     "exception": false,
     "start_time": "2021-03-25T20:49:51.600797",
     "status": "completed"
    },
    "tags": []
   },
   "outputs": [],
   "source": [
    "# words = [word for word in vocab.keys() if vocab[word]>30]\n",
    "# len(words)"
   ]
  },
  {
   "cell_type": "code",
   "execution_count": 30,
   "metadata": {
    "execution": {
     "iopub.execute_input": "2021-03-25T20:50:05.178354Z",
     "iopub.status.busy": "2021-03-25T20:50:05.177573Z",
     "iopub.status.idle": "2021-03-25T20:50:05.180666Z",
     "shell.execute_reply": "2021-03-25T20:50:05.180238Z"
    },
    "papermill": {
     "duration": 4.274633,
     "end_time": "2021-03-25T20:50:05.180774",
     "exception": false,
     "start_time": "2021-03-25T20:50:00.906141",
     "status": "completed"
    },
    "tags": []
   },
   "outputs": [],
   "source": [
    "# vocab_words = set(words)\n",
    "# vocab_words.add('<unk>') #token for out vocabulary word\n",
    "# vocab_words.add('<pad>') #token for padding word\n",
    "# vocab_words.add('<s>')   #token for start sequence\n",
    "# vocab_words.add('</s>')  #token for end sequence\n",
    "# print (len(vocab_words)) "
   ]
  },
  {
   "cell_type": "markdown",
   "metadata": {
    "papermill": {
     "duration": 4.266066,
     "end_time": "2021-03-25T20:50:14.043027",
     "exception": false,
     "start_time": "2021-03-25T20:50:09.776961",
     "status": "completed"
    },
    "tags": []
   },
   "source": [
    "Finding maximum caption length. The comment will be converted to a matrix of size V*max_length where V is the size of the vocabulary."
   ]
  },
  {
   "cell_type": "code",
   "execution_count": 31,
   "metadata": {
    "execution": {
     "iopub.execute_input": "2021-03-25T20:50:22.870882Z",
     "iopub.status.busy": "2021-03-25T20:50:22.869191Z",
     "iopub.status.idle": "2021-03-25T20:50:22.871482Z",
     "shell.execute_reply": "2021-03-25T20:50:22.871882Z"
    },
    "papermill": {
     "duration": 4.528932,
     "end_time": "2021-03-25T20:50:22.872041",
     "exception": false,
     "start_time": "2021-03-25T20:50:18.343109",
     "status": "completed"
    },
    "tags": []
   },
   "outputs": [],
   "source": [
    "# max_len = 0\n",
    "# comment_lengths = []\n",
    "\n",
    "# for img_id in tqdm(train.keys()):\n",
    "#     for comment in train[img_id]:\n",
    "#         l = len(comment.split(' '))\n",
    "#         if l>max_len:\n",
    "#             max_len = l\n",
    "#         comment_lengths.append(l)\n",
    "        \n"
   ]
  },
  {
   "cell_type": "code",
   "execution_count": 32,
   "metadata": {
    "execution": {
     "iopub.execute_input": "2021-03-25T20:50:32.335127Z",
     "iopub.status.busy": "2021-03-25T20:50:32.334282Z",
     "iopub.status.idle": "2021-03-25T20:50:32.337178Z",
     "shell.execute_reply": "2021-03-25T20:50:32.336659Z"
    },
    "papermill": {
     "duration": 5.196153,
     "end_time": "2021-03-25T20:50:32.337312",
     "exception": false,
     "start_time": "2021-03-25T20:50:27.141159",
     "status": "completed"
    },
    "tags": []
   },
   "outputs": [],
   "source": [
    "# max_len"
   ]
  },
  {
   "cell_type": "code",
   "execution_count": 33,
   "metadata": {
    "execution": {
     "iopub.execute_input": "2021-03-25T20:50:41.106880Z",
     "iopub.status.busy": "2021-03-25T20:50:41.106087Z",
     "iopub.status.idle": "2021-03-25T20:50:41.109266Z",
     "shell.execute_reply": "2021-03-25T20:50:41.108801Z"
    },
    "papermill": {
     "duration": 4.356414,
     "end_time": "2021-03-25T20:50:41.109387",
     "exception": false,
     "start_time": "2021-03-25T20:50:36.752973",
     "status": "completed"
    },
    "tags": []
   },
   "outputs": [],
   "source": [
    "# import seaborn as sns\n",
    "# sns.distplot(comment_lengths)"
   ]
  },
  {
   "cell_type": "markdown",
   "metadata": {
    "papermill": {
     "duration": 4.23324,
     "end_time": "2021-03-25T20:50:49.895474",
     "exception": false,
     "start_time": "2021-03-25T20:50:45.662234",
     "status": "completed"
    },
    "tags": []
   },
   "source": [
    "From the distribution of comment lengths it seems that even though max comment length is 64 we can choose a lower value. We set a maximum comment length value of 30 and do not consider those instances which have a comment length higher than 30."
   ]
  },
  {
   "cell_type": "code",
   "execution_count": 34,
   "metadata": {
    "execution": {
     "iopub.execute_input": "2021-03-25T20:50:58.707092Z",
     "iopub.status.busy": "2021-03-25T20:50:58.706321Z",
     "iopub.status.idle": "2021-03-25T20:50:58.709319Z",
     "shell.execute_reply": "2021-03-25T20:50:58.708861Z"
    },
    "papermill": {
     "duration": 4.273949,
     "end_time": "2021-03-25T20:50:58.709438",
     "exception": false,
     "start_time": "2021-03-25T20:50:54.435489",
     "status": "completed"
    },
    "tags": []
   },
   "outputs": [],
   "source": [
    "# threshold = 30\n",
    "# print (\"{} out of {} comments have length greater than {}\".format(sum([c>threshold for c in comment_lengths]), len(comment_lengths), threshold))"
   ]
  },
  {
   "cell_type": "code",
   "execution_count": 35,
   "metadata": {
    "execution": {
     "iopub.execute_input": "2021-03-25T20:51:08.140095Z",
     "iopub.status.busy": "2021-03-25T20:51:08.139356Z",
     "iopub.status.idle": "2021-03-25T20:51:08.142308Z",
     "shell.execute_reply": "2021-03-25T20:51:08.141857Z"
    },
    "papermill": {
     "duration": 5.139704,
     "end_time": "2021-03-25T20:51:08.142421",
     "exception": false,
     "start_time": "2021-03-25T20:51:03.002717",
     "status": "completed"
    },
    "tags": []
   },
   "outputs": [],
   "source": [
    "# word2id = {}\n",
    "# id2word = {}\n",
    "# for i, word in enumerate(vocab_words):\n",
    "#     word2id[word] = i\n",
    "#     id2word[i] = word"
   ]
  },
  {
   "cell_type": "code",
   "execution_count": 36,
   "metadata": {
    "execution": {
     "iopub.execute_input": "2021-03-25T20:51:17.149795Z",
     "iopub.status.busy": "2021-03-25T20:51:17.149059Z",
     "iopub.status.idle": "2021-03-25T20:51:17.151485Z",
     "shell.execute_reply": "2021-03-25T20:51:17.151989Z"
    },
    "papermill": {
     "duration": 4.531404,
     "end_time": "2021-03-25T20:51:17.152133",
     "exception": false,
     "start_time": "2021-03-25T20:51:12.620729",
     "status": "completed"
    },
    "tags": []
   },
   "outputs": [],
   "source": [
    "# def sent2vec(comment, word2id, vocab, max_len = 30, start_token = '<s>', end_token = '</s>'): \n",
    "#     words = comment.split(' ')\n",
    "    \n",
    "#     #inserting start and end token\n",
    "#     words.insert(0, start_token)\n",
    "    \n",
    "#     words.append(end_token)\n",
    "    \n",
    "    \n",
    "#     vec = [0] * max_len\n",
    "    \n",
    "#     c = 0\n",
    "#     for word in words:\n",
    "#         if word in vocab:\n",
    "#             vec[c] = word2id[word]\n",
    "            \n",
    "#         else:\n",
    "#             vec[c] = word2id['<unk>']\n",
    "        \n",
    "#         c+=1\n",
    "        \n",
    "#     while c<max_len:\n",
    "#         vec[c] = word2id['<pad>']\n",
    "#         c+=1\n",
    "        \n",
    "#     return vec\n",
    "        \n",
    "    "
   ]
  },
  {
   "cell_type": "code",
   "execution_count": 37,
   "metadata": {
    "execution": {
     "iopub.execute_input": "2021-03-25T20:51:25.678103Z",
     "iopub.status.busy": "2021-03-25T20:51:25.677181Z",
     "iopub.status.idle": "2021-03-25T20:51:25.679548Z",
     "shell.execute_reply": "2021-03-25T20:51:25.678821Z"
    },
    "papermill": {
     "duration": 4.248405,
     "end_time": "2021-03-25T20:51:25.679692",
     "exception": false,
     "start_time": "2021-03-25T20:51:21.431287",
     "status": "completed"
    },
    "tags": []
   },
   "outputs": [],
   "source": [
    "# comment = train['17516940.jpg'][3]\n",
    "# print (comment)\n",
    "# print (sent2vec(comment, word2id, vocab_words, max_len = 30, start_token = '<s>', end_token = '</s>'))"
   ]
  },
  {
   "cell_type": "code",
   "execution_count": null,
   "metadata": {
    "papermill": {
     "duration": 4.331446,
     "end_time": "2021-03-25T20:51:34.569330",
     "exception": false,
     "start_time": "2021-03-25T20:51:30.237884",
     "status": "completed"
    },
    "tags": []
   },
   "outputs": [],
   "source": []
  }
 ],
 "metadata": {
  "kernelspec": {
   "display_name": "Python 3",
   "language": "python",
   "name": "python3"
  },
  "language_info": {
   "codemirror_mode": {
    "name": "ipython",
    "version": 3
   },
   "file_extension": ".py",
   "mimetype": "text/x-python",
   "name": "python",
   "nbconvert_exporter": "python",
   "pygments_lexer": "ipython3",
   "version": "3.7.9"
  },
  "papermill": {
   "default_parameters": {},
   "duration": 2281.415435,
   "end_time": "2021-03-25T20:51:42.444902",
   "environment_variables": {},
   "exception": null,
   "input_path": "__notebook__.ipynb",
   "output_path": "__notebook__.ipynb",
   "parameters": {},
   "start_time": "2021-03-25T20:13:41.029467",
   "version": "2.2.2"
  }
 },
 "nbformat": 4,
 "nbformat_minor": 4
}
