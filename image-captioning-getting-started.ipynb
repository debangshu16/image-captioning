{
 "cells": [
  {
   "cell_type": "code",
   "execution_count": 1,
   "metadata": {
    "_cell_guid": "b1076dfc-b9ad-4769-8c92-a6c4dae69d19",
    "_uuid": "8f2839f25d086af736a60e9eeb907d3b93b6e0e5",
    "execution": {
     "iopub.execute_input": "2021-03-07T16:35:44.139423Z",
     "iopub.status.busy": "2021-03-07T16:35:44.138599Z",
     "iopub.status.idle": "2021-03-07T16:35:45.792151Z",
     "shell.execute_reply": "2021-03-07T16:35:45.791265Z"
    },
    "papermill": {
     "duration": 1.677292,
     "end_time": "2021-03-07T16:35:45.792373",
     "exception": false,
     "start_time": "2021-03-07T16:35:44.115081",
     "status": "completed"
    },
    "tags": []
   },
   "outputs": [],
   "source": [
    "import os\n",
    "import numpy as np\n",
    "import pandas as pd\n",
    "import re\n",
    "import nltk\n",
    "from nltk.tokenize import word_tokenize\n",
    "import string"
   ]
  },
  {
   "cell_type": "code",
   "execution_count": 2,
   "metadata": {
    "execution": {
     "iopub.execute_input": "2021-03-07T16:35:45.837493Z",
     "iopub.status.busy": "2021-03-07T16:35:45.836817Z",
     "iopub.status.idle": "2021-03-07T16:35:47.131295Z",
     "shell.execute_reply": "2021-03-07T16:35:47.130594Z"
    },
    "papermill": {
     "duration": 1.322014,
     "end_time": "2021-03-07T16:35:47.131435",
     "exception": false,
     "start_time": "2021-03-07T16:35:45.809421",
     "status": "completed"
    },
    "tags": []
   },
   "outputs": [],
   "source": [
    "data_dir = '../input/flickr-image-dataset/flickr30k_images'\n",
    "img_dir = os.path.join(data_dir, 'flickr30k_images')\n",
    "images = list(os.listdir(img_dir))\n",
    "\n",
    "data_file = os.path.join(data_dir, 'results.csv')\n"
   ]
  },
  {
   "cell_type": "code",
   "execution_count": 3,
   "metadata": {
    "execution": {
     "iopub.execute_input": "2021-03-07T16:35:47.171744Z",
     "iopub.status.busy": "2021-03-07T16:35:47.171114Z",
     "iopub.status.idle": "2021-03-07T16:35:47.655239Z",
     "shell.execute_reply": "2021-03-07T16:35:47.655774Z"
    },
    "papermill": {
     "duration": 0.505885,
     "end_time": "2021-03-07T16:35:47.655950",
     "exception": false,
     "start_time": "2021-03-07T16:35:47.150065",
     "status": "completed"
    },
    "tags": []
   },
   "outputs": [
    {
     "data": {
      "text/html": [
       "<div>\n",
       "<style scoped>\n",
       "    .dataframe tbody tr th:only-of-type {\n",
       "        vertical-align: middle;\n",
       "    }\n",
       "\n",
       "    .dataframe tbody tr th {\n",
       "        vertical-align: top;\n",
       "    }\n",
       "\n",
       "    .dataframe thead th {\n",
       "        text-align: right;\n",
       "    }\n",
       "</style>\n",
       "<table border=\"1\" class=\"dataframe\">\n",
       "  <thead>\n",
       "    <tr style=\"text-align: right;\">\n",
       "      <th></th>\n",
       "      <th>image_name</th>\n",
       "      <th>comment_number</th>\n",
       "      <th>comment</th>\n",
       "    </tr>\n",
       "  </thead>\n",
       "  <tbody>\n",
       "    <tr>\n",
       "      <th>0</th>\n",
       "      <td>1000092795.jpg</td>\n",
       "      <td>0</td>\n",
       "      <td>Two young guys with shaggy hair look at their...</td>\n",
       "    </tr>\n",
       "    <tr>\n",
       "      <th>1</th>\n",
       "      <td>1000092795.jpg</td>\n",
       "      <td>1</td>\n",
       "      <td>Two young , White males are outside near many...</td>\n",
       "    </tr>\n",
       "    <tr>\n",
       "      <th>2</th>\n",
       "      <td>1000092795.jpg</td>\n",
       "      <td>2</td>\n",
       "      <td>Two men in green shirts are standing in a yard .</td>\n",
       "    </tr>\n",
       "    <tr>\n",
       "      <th>3</th>\n",
       "      <td>1000092795.jpg</td>\n",
       "      <td>3</td>\n",
       "      <td>A man in a blue shirt standing in a garden .</td>\n",
       "    </tr>\n",
       "    <tr>\n",
       "      <th>4</th>\n",
       "      <td>1000092795.jpg</td>\n",
       "      <td>4</td>\n",
       "      <td>Two friends enjoy time spent together .</td>\n",
       "    </tr>\n",
       "  </tbody>\n",
       "</table>\n",
       "</div>"
      ],
      "text/plain": [
       "       image_name  comment_number  \\\n",
       "0  1000092795.jpg               0   \n",
       "1  1000092795.jpg               1   \n",
       "2  1000092795.jpg               2   \n",
       "3  1000092795.jpg               3   \n",
       "4  1000092795.jpg               4   \n",
       "\n",
       "                                             comment  \n",
       "0   Two young guys with shaggy hair look at their...  \n",
       "1   Two young , White males are outside near many...  \n",
       "2   Two men in green shirts are standing in a yard .  \n",
       "3       A man in a blue shirt standing in a garden .  \n",
       "4            Two friends enjoy time spent together .  "
      ]
     },
     "execution_count": 3,
     "metadata": {},
     "output_type": "execute_result"
    }
   ],
   "source": [
    "data = pd.read_csv(data_file, delimiter = '|')\n",
    "data.head()"
   ]
  },
  {
   "cell_type": "code",
   "execution_count": 4,
   "metadata": {
    "execution": {
     "iopub.execute_input": "2021-03-07T16:35:47.697044Z",
     "iopub.status.busy": "2021-03-07T16:35:47.696033Z",
     "iopub.status.idle": "2021-03-07T16:35:47.699089Z",
     "shell.execute_reply": "2021-03-07T16:35:47.698452Z"
    },
    "papermill": {
     "duration": 0.025599,
     "end_time": "2021-03-07T16:35:47.699242",
     "exception": false,
     "start_time": "2021-03-07T16:35:47.673643",
     "status": "completed"
    },
    "tags": []
   },
   "outputs": [],
   "source": [
    "data.columns = ['image_name','comment_number','comment']"
   ]
  },
  {
   "cell_type": "code",
   "execution_count": 5,
   "metadata": {
    "execution": {
     "iopub.execute_input": "2021-03-07T16:35:47.740077Z",
     "iopub.status.busy": "2021-03-07T16:35:47.739443Z",
     "iopub.status.idle": "2021-03-07T16:35:47.742503Z",
     "shell.execute_reply": "2021-03-07T16:35:47.743095Z"
    },
    "papermill": {
     "duration": 0.026161,
     "end_time": "2021-03-07T16:35:47.743269",
     "exception": false,
     "start_time": "2021-03-07T16:35:47.717108",
     "status": "completed"
    },
    "tags": []
   },
   "outputs": [
    {
     "name": "stdout",
     "output_type": "stream",
     "text": [
      "Number of images in image forlder = 31785 and number of entries in results.csv = 158915\n"
     ]
    }
   ],
   "source": [
    "print (\"Number of images in image forlder = %d and number of entries in results.csv = %d\" %(len(images), data.shape[0]))\n"
   ]
  },
  {
   "cell_type": "markdown",
   "metadata": {
    "papermill": {
     "duration": 0.017658,
     "end_time": "2021-03-07T16:35:47.778483",
     "exception": false,
     "start_time": "2021-03-07T16:35:47.760825",
     "status": "completed"
    },
    "tags": []
   },
   "source": [
    "Notice that for one image there can be multiple labels in the comment section. For example, for image id 1000092795.jpg, there are 5 comments denoted by the comment number which describes that image. "
   ]
  },
  {
   "cell_type": "code",
   "execution_count": 6,
   "metadata": {
    "execution": {
     "iopub.execute_input": "2021-03-07T16:35:47.843940Z",
     "iopub.status.busy": "2021-03-07T16:35:47.843223Z",
     "iopub.status.idle": "2021-03-07T16:35:47.854489Z",
     "shell.execute_reply": "2021-03-07T16:35:47.854936Z"
    },
    "papermill": {
     "duration": 0.058816,
     "end_time": "2021-03-07T16:35:47.855106",
     "exception": false,
     "start_time": "2021-03-07T16:35:47.796290",
     "status": "completed"
    },
    "tags": []
   },
   "outputs": [
    {
     "data": {
      "text/html": [
       "<div>\n",
       "<style scoped>\n",
       "    .dataframe tbody tr th:only-of-type {\n",
       "        vertical-align: middle;\n",
       "    }\n",
       "\n",
       "    .dataframe tbody tr th {\n",
       "        vertical-align: top;\n",
       "    }\n",
       "\n",
       "    .dataframe thead th {\n",
       "        text-align: right;\n",
       "    }\n",
       "</style>\n",
       "<table border=\"1\" class=\"dataframe\">\n",
       "  <thead>\n",
       "    <tr style=\"text-align: right;\">\n",
       "      <th></th>\n",
       "      <th>image_name</th>\n",
       "      <th>comment_number</th>\n",
       "      <th>comment</th>\n",
       "    </tr>\n",
       "  </thead>\n",
       "  <tbody>\n",
       "    <tr>\n",
       "      <th>0</th>\n",
       "      <td>1000092795.jpg</td>\n",
       "      <td>0</td>\n",
       "      <td>Two young guys with shaggy hair look at their...</td>\n",
       "    </tr>\n",
       "    <tr>\n",
       "      <th>1</th>\n",
       "      <td>1000092795.jpg</td>\n",
       "      <td>1</td>\n",
       "      <td>Two young , White males are outside near many...</td>\n",
       "    </tr>\n",
       "    <tr>\n",
       "      <th>2</th>\n",
       "      <td>1000092795.jpg</td>\n",
       "      <td>2</td>\n",
       "      <td>Two men in green shirts are standing in a yard .</td>\n",
       "    </tr>\n",
       "    <tr>\n",
       "      <th>3</th>\n",
       "      <td>1000092795.jpg</td>\n",
       "      <td>3</td>\n",
       "      <td>A man in a blue shirt standing in a garden .</td>\n",
       "    </tr>\n",
       "    <tr>\n",
       "      <th>4</th>\n",
       "      <td>1000092795.jpg</td>\n",
       "      <td>4</td>\n",
       "      <td>Two friends enjoy time spent together .</td>\n",
       "    </tr>\n",
       "  </tbody>\n",
       "</table>\n",
       "</div>"
      ],
      "text/plain": [
       "       image_name comment_number  \\\n",
       "0  1000092795.jpg              0   \n",
       "1  1000092795.jpg              1   \n",
       "2  1000092795.jpg              2   \n",
       "3  1000092795.jpg              3   \n",
       "4  1000092795.jpg              4   \n",
       "\n",
       "                                             comment  \n",
       "0   Two young guys with shaggy hair look at their...  \n",
       "1   Two young , White males are outside near many...  \n",
       "2   Two men in green shirts are standing in a yard .  \n",
       "3       A man in a blue shirt standing in a garden .  \n",
       "4            Two friends enjoy time spent together .  "
      ]
     },
     "execution_count": 6,
     "metadata": {},
     "output_type": "execute_result"
    }
   ],
   "source": [
    "data[data['image_name']=='1000092795.jpg']"
   ]
  },
  {
   "cell_type": "code",
   "execution_count": 7,
   "metadata": {
    "execution": {
     "iopub.execute_input": "2021-03-07T16:35:48.074236Z",
     "iopub.status.busy": "2021-03-07T16:35:47.897548Z",
     "iopub.status.idle": "2021-03-07T16:35:48.078690Z",
     "shell.execute_reply": "2021-03-07T16:35:48.079273Z"
    },
    "papermill": {
     "duration": 0.205489,
     "end_time": "2021-03-07T16:35:48.079445",
     "exception": false,
     "start_time": "2021-03-07T16:35:47.873956",
     "status": "completed"
    },
    "tags": []
   },
   "outputs": [
    {
     "data": {
      "text/plain": [
       "31783"
      ]
     },
     "execution_count": 7,
     "metadata": {},
     "output_type": "execute_result"
    }
   ],
   "source": [
    "#finding the number of unique image ids from results\n",
    "len(np.unique(data['image_name'].values))"
   ]
  },
  {
   "cell_type": "markdown",
   "metadata": {
    "papermill": {
     "duration": 0.018858,
     "end_time": "2021-03-07T16:35:48.117153",
     "exception": false,
     "start_time": "2021-03-07T16:35:48.098295",
     "status": "completed"
    },
    "tags": []
   },
   "source": [
    "So, there are two extra images in image folder for which there is no description given in the data. We are not going to consider these two images for our model building. Further for each unique image there are 5 separate captions possible. So, 31783*5 = 158915 entries of the dataframe."
   ]
  },
  {
   "cell_type": "markdown",
   "metadata": {
    "papermill": {
     "duration": 0.018772,
     "end_time": "2021-03-07T16:35:48.154936",
     "exception": false,
     "start_time": "2021-03-07T16:35:48.136164",
     "status": "completed"
    },
    "tags": []
   },
   "source": [
    "### Building a map from image id to various comments"
   ]
  },
  {
   "cell_type": "code",
   "execution_count": 8,
   "metadata": {
    "execution": {
     "iopub.execute_input": "2021-03-07T16:35:48.195751Z",
     "iopub.status.busy": "2021-03-07T16:35:48.195136Z",
     "iopub.status.idle": "2021-03-07T16:48:56.731076Z",
     "shell.execute_reply": "2021-03-07T16:48:56.730487Z"
    },
    "papermill": {
     "duration": 788.557222,
     "end_time": "2021-03-07T16:48:56.731212",
     "exception": false,
     "start_time": "2021-03-07T16:35:48.173990",
     "status": "completed"
    },
    "tags": []
   },
   "outputs": [
    {
     "name": "stderr",
     "output_type": "stream",
     "text": [
      "100%|██████████| 31783/31783 [13:08<00:00, 40.32it/s]\n"
     ]
    }
   ],
   "source": [
    "from tqdm import tqdm\n",
    "image2comment = {}\n",
    "unique_images = np.unique(data['image_name'].values)\n",
    "\n",
    "for img_id in tqdm(unique_images):\n",
    "    comments = list(data[data['image_name']==img_id]['comment'].values)\n",
    "    image2comment[img_id] = comments"
   ]
  },
  {
   "cell_type": "markdown",
   "metadata": {
    "papermill": {
     "duration": 1.999636,
     "end_time": "2021-03-07T16:49:00.689562",
     "exception": false,
     "start_time": "2021-03-07T16:48:58.689926",
     "status": "completed"
    },
    "tags": []
   },
   "source": [
    "## Preprocessing the language data/comments"
   ]
  },
  {
   "cell_type": "code",
   "execution_count": 9,
   "metadata": {
    "execution": {
     "iopub.execute_input": "2021-03-07T16:49:04.675500Z",
     "iopub.status.busy": "2021-03-07T16:49:04.674852Z",
     "iopub.status.idle": "2021-03-07T16:49:04.678231Z",
     "shell.execute_reply": "2021-03-07T16:49:04.677793Z"
    },
    "papermill": {
     "duration": 2.015996,
     "end_time": "2021-03-07T16:49:04.678388",
     "exception": false,
     "start_time": "2021-03-07T16:49:02.662392",
     "status": "completed"
    },
    "tags": []
   },
   "outputs": [],
   "source": [
    "table = str.maketrans('', '', string.punctuation)\n",
    "def preprocess(comment):\n",
    "    #1) tokenize\n",
    "    tokens = word_tokenize(comment)\n",
    "    \n",
    "    #2) convert tokens to lower case\n",
    "    tokens = [token.lower() for token in tokens]\n",
    "    \n",
    "    #3) Remove punctuations from tokens\n",
    "    tokens = [token.translate(table) for token in tokens]\n",
    "    \n",
    "    #4) Remove tokens which has a length less than 1\n",
    "    tokens = [token for token in tokens if len(token) >1]\n",
    "    \n",
    "    #5) Only consider tokens which are pure words(only strings of alphabets)\n",
    "    tokens = [token for token in tokens if token.isalpha()]\n",
    "    \n",
    "    preprocessed_comment = ' '.join(tokens)\n",
    "    \n",
    "    return preprocessed_comment\n",
    "    "
   ]
  },
  {
   "cell_type": "code",
   "execution_count": 10,
   "metadata": {
    "execution": {
     "iopub.execute_input": "2021-03-07T16:49:08.609542Z",
     "iopub.status.busy": "2021-03-07T16:49:08.608817Z",
     "iopub.status.idle": "2021-03-07T16:49:08.627310Z",
     "shell.execute_reply": "2021-03-07T16:49:08.626761Z"
    },
    "papermill": {
     "duration": 1.988279,
     "end_time": "2021-03-07T16:49:08.627456",
     "exception": false,
     "start_time": "2021-03-07T16:49:06.639177",
     "status": "completed"
    },
    "tags": []
   },
   "outputs": [
    {
     "name": "stdout",
     "output_type": "stream",
     "text": [
      " A man with a goatee in a black shirt and white latex gloves is using a tattoo gun to place a tattoo on someone 's back .\n"
     ]
    },
    {
     "data": {
      "text/plain": [
       "'man with goatee in black shirt and white latex gloves is using tattoo gun to place tattoo on someone back'"
      ]
     },
     "execution_count": 10,
     "metadata": {},
     "output_type": "execute_result"
    }
   ],
   "source": [
    "comment = data['comment'].values[110]\n",
    "print (comment)\n",
    "preprocess(comment)"
   ]
  },
  {
   "cell_type": "code",
   "execution_count": 11,
   "metadata": {
    "execution": {
     "iopub.execute_input": "2021-03-07T16:49:12.634034Z",
     "iopub.status.busy": "2021-03-07T16:49:12.633392Z",
     "iopub.status.idle": "2021-03-07T16:49:45.624004Z",
     "shell.execute_reply": "2021-03-07T16:49:45.623359Z"
    },
    "papermill": {
     "duration": 35.034717,
     "end_time": "2021-03-07T16:49:45.624139",
     "exception": false,
     "start_time": "2021-03-07T16:49:10.589422",
     "status": "completed"
    },
    "tags": []
   },
   "outputs": [
    {
     "name": "stderr",
     "output_type": "stream",
     "text": [
      " 13%|█▎        | 4181/31783 [00:04<00:28, 977.85it/s]"
     ]
    },
    {
     "name": "stdout",
     "output_type": "stream",
     "text": [
      "2199200615.jpg nan 20000\n"
     ]
    },
    {
     "name": "stderr",
     "output_type": "stream",
     "text": [
      "100%|██████████| 31783/31783 [00:32<00:00, 963.58it/s]\n"
     ]
    }
   ],
   "source": [
    "#preprocessing on all comments\n",
    "preprocessed_img_comments = {}\n",
    "comment_count = 0\n",
    "for img_id in tqdm(image2comment.keys()):\n",
    "    comments = image2comment[img_id]\n",
    "    t = []\n",
    "    for comment in comments:\n",
    "        comment_count +=1\n",
    "        try:\n",
    "            t.append(preprocess(comment))\n",
    "        except:\n",
    "            print (img_id,comment, comment_count)\n",
    "            \n",
    "    preprocessed_img_comments[img_id] = t\n",
    "        "
   ]
  },
  {
   "cell_type": "code",
   "execution_count": 12,
   "metadata": {
    "execution": {
     "iopub.execute_input": "2021-03-07T16:49:49.845957Z",
     "iopub.status.busy": "2021-03-07T16:49:49.845332Z",
     "iopub.status.idle": "2021-03-07T16:49:49.849886Z",
     "shell.execute_reply": "2021-03-07T16:49:49.848599Z"
    },
    "papermill": {
     "duration": 2.155438,
     "end_time": "2021-03-07T16:49:49.850030",
     "exception": false,
     "start_time": "2021-03-07T16:49:47.694592",
     "status": "completed"
    },
    "tags": []
   },
   "outputs": [
    {
     "data": {
      "text/plain": [
       "array([' A dog running on green grass with its mouth open and tongue hanging out .',\n",
       "       ' a white dog is running with its mouth open across the grass .',\n",
       "       ' A white , black , and brown dog runs in a field .',\n",
       "       ' A dog runs across the grassy field .', nan], dtype=object)"
      ]
     },
     "execution_count": 12,
     "metadata": {},
     "output_type": "execute_result"
    }
   ],
   "source": [
    "data[data['image_name'] =='2199200615.jpg']['comment'].values"
   ]
  },
  {
   "cell_type": "markdown",
   "metadata": {
    "papermill": {
     "duration": 2.075836,
     "end_time": "2021-03-07T16:49:54.055936",
     "exception": false,
     "start_time": "2021-03-07T16:49:51.980100",
     "status": "completed"
    },
    "tags": []
   },
   "source": [
    "Notice that this image id has 4 comments instead of 5,i.e, one comment is ''. A try except is used as a wrapper while preprocessing the comment so as to remove the empty comment. The preprocessed data now should have (158915 -1) = 158914  comments."
   ]
  },
  {
   "cell_type": "code",
   "execution_count": 13,
   "metadata": {
    "execution": {
     "iopub.execute_input": "2021-03-07T16:49:58.375512Z",
     "iopub.status.busy": "2021-03-07T16:49:58.371859Z",
     "iopub.status.idle": "2021-03-07T16:49:58.379676Z",
     "shell.execute_reply": "2021-03-07T16:49:58.379171Z"
    },
    "papermill": {
     "duration": 2.148464,
     "end_time": "2021-03-07T16:49:58.379819",
     "exception": false,
     "start_time": "2021-03-07T16:49:56.231355",
     "status": "completed"
    },
    "tags": []
   },
   "outputs": [
    {
     "name": "stdout",
     "output_type": "stream",
     "text": [
      "158914\n"
     ]
    }
   ],
   "source": [
    "s = 0\n",
    "for img_id in preprocessed_img_comments.keys():\n",
    "    s += len(preprocessed_img_comments[img_id])\n",
    "print (s)"
   ]
  },
  {
   "cell_type": "markdown",
   "metadata": {
    "papermill": {
     "duration": 2.095465,
     "end_time": "2021-03-07T16:50:02.589209",
     "exception": false,
     "start_time": "2021-03-07T16:50:00.493744",
     "status": "completed"
    },
    "tags": []
   },
   "source": [
    "## Splitting data into train and test sets"
   ]
  },
  {
   "cell_type": "markdown",
   "metadata": {
    "papermill": {
     "duration": 2.073191,
     "end_time": "2021-03-07T16:50:06.733915",
     "exception": false,
     "start_time": "2021-03-07T16:50:04.660724",
     "status": "completed"
    },
    "tags": []
   },
   "source": [
    "Splitting data into 80% train data and 20% test data."
   ]
  },
  {
   "cell_type": "code",
   "execution_count": 14,
   "metadata": {
    "execution": {
     "iopub.execute_input": "2021-03-07T16:50:10.907831Z",
     "iopub.status.busy": "2021-03-07T16:50:10.907218Z",
     "iopub.status.idle": "2021-03-07T16:50:10.913969Z",
     "shell.execute_reply": "2021-03-07T16:50:10.913453Z"
    },
    "papermill": {
     "duration": 2.119053,
     "end_time": "2021-03-07T16:50:10.914100",
     "exception": false,
     "start_time": "2021-03-07T16:50:08.795047",
     "status": "completed"
    },
    "tags": []
   },
   "outputs": [
    {
     "name": "stdout",
     "output_type": "stream",
     "text": [
      "25426 6357\n"
     ]
    }
   ],
   "source": [
    "from sklearn.model_selection import train_test_split\n",
    "train_ids, test_ids = train_test_split(unique_images, test_size = 0.2, random_state = 42, shuffle = True)\n",
    "\n",
    "print (len(train_ids), len(test_ids))"
   ]
  },
  {
   "cell_type": "code",
   "execution_count": 15,
   "metadata": {
    "execution": {
     "iopub.execute_input": "2021-03-07T16:50:15.073337Z",
     "iopub.status.busy": "2021-03-07T16:50:15.072720Z",
     "iopub.status.idle": "2021-03-07T16:50:15.097290Z",
     "shell.execute_reply": "2021-03-07T16:50:15.097761Z"
    },
    "papermill": {
     "duration": 2.103898,
     "end_time": "2021-03-07T16:50:15.097944",
     "exception": false,
     "start_time": "2021-03-07T16:50:12.994046",
     "status": "completed"
    },
    "tags": []
   },
   "outputs": [],
   "source": [
    "train_data = {}\n",
    "for train_idx in train_ids:\n",
    "    train_data[train_idx] = preprocessed_img_comments[train_idx]\n",
    "    \n",
    "    \n",
    "test_data = {}\n",
    "for test_idx in test_ids:\n",
    "    test_data[test_idx] = preprocessed_img_comments[test_idx]"
   ]
  },
  {
   "cell_type": "code",
   "execution_count": 16,
   "metadata": {
    "execution": {
     "iopub.execute_input": "2021-03-07T16:50:19.324877Z",
     "iopub.status.busy": "2021-03-07T16:50:19.324236Z",
     "iopub.status.idle": "2021-03-07T16:50:19.328131Z",
     "shell.execute_reply": "2021-03-07T16:50:19.327532Z"
    },
    "papermill": {
     "duration": 2.121347,
     "end_time": "2021-03-07T16:50:19.328297",
     "exception": false,
     "start_time": "2021-03-07T16:50:17.206950",
     "status": "completed"
    },
    "tags": []
   },
   "outputs": [
    {
     "data": {
      "text/plain": [
       "(25426, 6357)"
      ]
     },
     "execution_count": 16,
     "metadata": {},
     "output_type": "execute_result"
    }
   ],
   "source": [
    "len(train_data.keys()), len(test_data.keys())"
   ]
  },
  {
   "cell_type": "markdown",
   "metadata": {
    "papermill": {
     "duration": 2.16033,
     "end_time": "2021-03-07T16:50:23.561012",
     "exception": false,
     "start_time": "2021-03-07T16:50:21.400682",
     "status": "completed"
    },
    "tags": []
   },
   "source": [
    "# Working on train set\n",
    "\n",
    "First, I am going to further divide the train set into train and train and validation sets with validation sets containing 20% of the train set data."
   ]
  },
  {
   "cell_type": "code",
   "execution_count": 17,
   "metadata": {
    "execution": {
     "iopub.execute_input": "2021-03-07T16:50:27.701712Z",
     "iopub.status.busy": "2021-03-07T16:50:27.701081Z",
     "iopub.status.idle": "2021-03-07T16:50:27.732902Z",
     "shell.execute_reply": "2021-03-07T16:50:27.733405Z"
    },
    "papermill": {
     "duration": 2.112378,
     "end_time": "2021-03-07T16:50:27.733574",
     "exception": false,
     "start_time": "2021-03-07T16:50:25.621196",
     "status": "completed"
    },
    "tags": []
   },
   "outputs": [
    {
     "name": "stdout",
     "output_type": "stream",
     "text": [
      "20340 5086\n"
     ]
    }
   ],
   "source": [
    "train_ids, valid_ids = train_test_split(list(train_data.keys()), shuffle = True, random_state = 42, test_size = 0.2)\n",
    "train = {}\n",
    "valid = {}\n",
    "\n",
    "for id in train_ids:\n",
    "    train[id] = train_data[id]\n",
    "    \n",
    "for id in valid_ids:\n",
    "    valid[id] = train_data[id]\n",
    "    \n",
    "print (len(train.keys()), len(valid.keys()))"
   ]
  },
  {
   "cell_type": "markdown",
   "metadata": {
    "papermill": {
     "duration": 2.070044,
     "end_time": "2021-03-07T16:50:31.932966",
     "exception": false,
     "start_time": "2021-03-07T16:50:29.862922",
     "status": "completed"
    },
    "tags": []
   },
   "source": [
    "## Building vocabulary\n",
    "\n",
    "For train set, I will select all the unique words and add it to the vocabulary. There will be another two extra tokens a) out of vocabulary token (<unk>) and pad token(<pad>)."
   ]
  },
  {
   "cell_type": "code",
   "execution_count": 18,
   "metadata": {
    "execution": {
     "iopub.execute_input": "2021-03-07T16:50:36.119782Z",
     "iopub.status.busy": "2021-03-07T16:50:36.093961Z",
     "iopub.status.idle": "2021-03-07T16:50:36.580866Z",
     "shell.execute_reply": "2021-03-07T16:50:36.580364Z"
    },
    "papermill": {
     "duration": 2.573033,
     "end_time": "2021-03-07T16:50:36.581008",
     "exception": false,
     "start_time": "2021-03-07T16:50:34.007975",
     "status": "completed"
    },
    "tags": []
   },
   "outputs": [
    {
     "name": "stdout",
     "output_type": "stream",
     "text": [
      "Number of unique words in train corpus = 16506\n"
     ]
    }
   ],
   "source": [
    "vocab = {}\n",
    "for id in train.keys():\n",
    "    comments = train[id]\n",
    "    for comment in comments:\n",
    "        words = comment.split(' ')\n",
    "        for word in words:\n",
    "            vocab[word] = vocab.get(word, 0) + 1\n",
    "                \n",
    "print (\"Number of unique words in train corpus = %d\" %(len(vocab.keys())))"
   ]
  },
  {
   "cell_type": "markdown",
   "metadata": {
    "papermill": {
     "duration": 2.090758,
     "end_time": "2021-03-07T16:50:40.791541",
     "exception": false,
     "start_time": "2021-03-07T16:50:38.700783",
     "status": "completed"
    },
    "tags": []
   },
   "source": [
    "Since the vocabulary dimension is pretty high, I am going to consider only those words which has atleast more than 30 occurence over the train corpus."
   ]
  },
  {
   "cell_type": "code",
   "execution_count": 19,
   "metadata": {
    "execution": {
     "iopub.execute_input": "2021-03-07T16:50:44.980144Z",
     "iopub.status.busy": "2021-03-07T16:50:44.979485Z",
     "iopub.status.idle": "2021-03-07T16:50:44.982137Z",
     "shell.execute_reply": "2021-03-07T16:50:44.982647Z"
    },
    "papermill": {
     "duration": 2.11972,
     "end_time": "2021-03-07T16:50:44.982812",
     "exception": false,
     "start_time": "2021-03-07T16:50:42.863092",
     "status": "completed"
    },
    "tags": []
   },
   "outputs": [
    {
     "data": {
      "text/plain": [
       "2197"
      ]
     },
     "execution_count": 19,
     "metadata": {},
     "output_type": "execute_result"
    }
   ],
   "source": [
    "words = [word for word in vocab.keys() if vocab[word]>30]\n",
    "len(words)"
   ]
  },
  {
   "cell_type": "code",
   "execution_count": 20,
   "metadata": {
    "execution": {
     "iopub.execute_input": "2021-03-07T16:50:49.126233Z",
     "iopub.status.busy": "2021-03-07T16:50:49.125612Z",
     "iopub.status.idle": "2021-03-07T16:50:49.131628Z",
     "shell.execute_reply": "2021-03-07T16:50:49.131132Z"
    },
    "papermill": {
     "duration": 2.07768,
     "end_time": "2021-03-07T16:50:49.131766",
     "exception": false,
     "start_time": "2021-03-07T16:50:47.054086",
     "status": "completed"
    },
    "tags": []
   },
   "outputs": [
    {
     "name": "stdout",
     "output_type": "stream",
     "text": [
      "2199\n"
     ]
    }
   ],
   "source": [
    "vocab_words = set(words)\n",
    "vocab_words.add('<unk>')\n",
    "vocab_words.add('<pad>')\n",
    "\n",
    "print (len(vocab_words))"
   ]
  },
  {
   "cell_type": "code",
   "execution_count": null,
   "metadata": {
    "papermill": {
     "duration": 2.085963,
     "end_time": "2021-03-07T16:50:53.366142",
     "exception": false,
     "start_time": "2021-03-07T16:50:51.280179",
     "status": "completed"
    },
    "tags": []
   },
   "outputs": [],
   "source": []
  }
 ],
 "metadata": {
  "kernelspec": {
   "display_name": "Python 3",
   "language": "python",
   "name": "python3"
  },
  "language_info": {
   "codemirror_mode": {
    "name": "ipython",
    "version": 3
   },
   "file_extension": ".py",
   "mimetype": "text/x-python",
   "name": "python",
   "nbconvert_exporter": "python",
   "pygments_lexer": "ipython3",
   "version": "3.7.9"
  },
  "papermill": {
   "default_parameters": {},
   "duration": 917.390498,
   "end_time": "2021-03-07T16:50:56.199580",
   "environment_variables": {},
   "exception": null,
   "input_path": "__notebook__.ipynb",
   "output_path": "__notebook__.ipynb",
   "parameters": {},
   "start_time": "2021-03-07T16:35:38.809082",
   "version": "2.2.2"
  }
 },
 "nbformat": 4,
 "nbformat_minor": 4
}
